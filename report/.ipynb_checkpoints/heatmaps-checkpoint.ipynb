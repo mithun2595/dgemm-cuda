{
 "cells": [
  {
   "cell_type": "code",
   "execution_count": 1,
   "metadata": {},
   "outputs": [
    {
     "name": "stdout",
     "output_type": "stream",
     "text": [
      "Appending for  256\n",
      "Content =  66\n",
      "Appending for  512\n",
      "Content =  66\n",
      "Appending for  1024\n",
      "Content =  66\n",
      "Appending for  2048\n",
      "Content =  66\n"
     ]
    }
   ],
   "source": [
    "N_dims = [256, 512, 1024,2048]\n",
    "gflop = []\n",
    "for N in N_dims:\n",
    "    with open('run_sorken_'+str(N)+'_naive.txt') as f:\n",
    "        print \"Appending for \",N\n",
    "        content = f.readlines()\n",
    "        content = [line.strip() for line in content]\n",
    "        content = [line.split('-')[2] for line in content]\n",
    "        print \"Content = \",len(content)\n",
    "        content = list(map(float,content))\n",
    "        content = [round(line, 5) for line in content]\n",
    "        gflop.append(content)   "
   ]
  },
  {
   "cell_type": "code",
   "execution_count": 9,
   "metadata": {},
   "outputs": [
    {
     "data": {
      "image/png": "[encoded data removed]",
      "text/plain": [
       "<matplotlib.figure.Figure at 0x1a17db7450>"
      ]
     },
     "metadata": {},
     "output_type": "display_data"
    }
   ],
   "source": [
    "import numpy as np\n",
    "import matplotlib.pyplot as plt\n",
    "import seaborn as sns\n",
    "import pandas as pd\n",
    "\n",
    "# create some random data; replace that by your actual dataset\n",
    "plt.figure(figsize=(20, 8))\n",
    "colormap = plt.cm.gist_earth_r\n",
    "\n",
    "cols = [256,512,1024,2048]\n",
    "dims = [1, 2, 4, 8, 16, 32, 64, 128, 256, 512, 1024]\n",
    "idx = []\n",
    "for x in dims:\n",
    "    for y in dims:\n",
    "        if x*y <= 1024:\n",
    "            idx.append(str(x)+' x '+str(y))\n",
    "gflop = np.array(gflop)\n",
    "data = pd.DataFrame(np.transpose(gflop), columns=cols, index = idx)\n",
    "\n",
    "# plot heatmap\n",
    "ax = sns.heatmap(data.T, cmap=colormap)\n",
    "ax.set_xlabel(\"Bx x By\")\n",
    "ax.set_ylabel(\"Matrix Size\")\n",
    "ax.set_xticks(np.arange(0, len(idx), 1));\n",
    "ax.set_yticks(np.arange(0, len(cols), 1));\n",
    "\n",
    "# turn the axis label\n",
    "for item in ax.get_yticklabels():\n",
    "    item.set_rotation(90)\n",
    "\n",
    "for item in ax.get_xticklabels():\n",
    "    item.set_rotation(90)\n",
    "    \n",
    "ax.set_xticks(np.arange(0, len(idx), 1), minor=True)\n",
    "ax.set_yticks(np.arange(-.01, len(cols), 1), minor=True)\n",
    "\n",
    "ax.grid(which='minor', color='w', linestyle='-', linewidth=2)\n",
    "plt.savefig(\"heat_naive.png\",dpi=100)\n",
    "plt.show()"
   ]
  },
  {
   "cell_type": "code",
   "execution_count": 37,
   "metadata": {},
   "outputs": [
    {
     "data": {
      "text/plain": [
       "(3, 66)"
      ]
     },
     "execution_count": 37,
     "metadata": {},
     "output_type": "execute_result"
    }
   ],
   "source": [
    "np.array(gflop).shape"
   ]
  },
  {
   "cell_type": "code",
   "execution_count": 49,
   "metadata": {
    "collapsed": true
   },
   "outputs": [],
   "source": [
    "gflop = np.array(gflop[0])"
   ]
  },
  {
   "cell_type": "code",
   "execution_count": 50,
   "metadata": {},
   "outputs": [
    {
     "data": {
      "text/plain": [
       "array([  2.17864,   4.27732,   6.8276 ,   8.74055,   9.63573,  10.05964,\n",
       "        10.06736,   9.27395,   9.41811,   9.21281,  10.02777,   4.33487,\n",
       "         8.50489,  13.52975,  17.33677,  19.14858,  19.31189,  17.57165,\n",
       "        17.76796,  17.79282,  19.41841,   8.63216,  16.8734 ,  26.78846,\n",
       "        34.25111,  34.66219,  33.87216,  31.88499,  32.87944,  35.37824,\n",
       "        17.04291,  33.20909,  52.57421,  58.13629,  56.91629,  55.92033,\n",
       "        55.68469,  58.50825,  33.24981,  64.48808,  89.26192,  88.86233,\n",
       "        87.31534,  85.81711,  90.38958,  61.73563,  74.44655,  73.14648,\n",
       "        70.78532,  65.57184,  63.13278,  74.52737,  73.27749,  71.59663,\n",
       "        68.72384,  64.7057 ,  73.20698,  71.3697 ,  68.66617,  65.18099,\n",
       "        71.48063,  67.87043,  64.59759,  70.40359,  73.97814,  59.94645])"
      ]
     },
     "execution_count": 50,
     "metadata": {},
     "output_type": "execute_result"
    }
   ],
   "source": [
    "gflop"
   ]
  },
  {
   "cell_type": "code",
   "execution_count": null,
   "metadata": {
    "collapsed": true
   },
   "outputs": [],
   "source": []
  }
 ],
 "metadata": {
  "kernelspec": {
   "display_name": "Python 2",
   "language": "python",
   "name": "python2"
  },
  "language_info": {
   "codemirror_mode": {
    "name": "ipython",
    "version": 2
   },
   "file_extension": ".py",
   "mimetype": "text/x-python",
   "name": "python",
   "nbconvert_exporter": "python",
   "pygments_lexer": "ipython2",
   "version": "2.7.13"
  }
 },
 "nbformat": 4,
 "nbformat_minor": 2
}
