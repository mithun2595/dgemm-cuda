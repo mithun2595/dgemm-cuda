{
 "cells": [
  {
   "cell_type": "code",
   "execution_count": 1,
   "metadata": {},
   "outputs": [],
   "source": [
    "op = [1, 2, 4, 8]\n",
    "occupancy = [67,67,50,33]\n",
    "gflop = [255.62,330.72,364.39,385.26]"
   ]
  },
  {
   "cell_type": "code",
   "execution_count": 31,
   "metadata": {},
   "outputs": [
    {
     "data": {
      "image/png": "[encoded data removed]",
      "text/plain": [
       "<matplotlib.figure.Figure at 0x1a1cf14750>"
      ]
     },
     "metadata": {},
     "output_type": "display_data"
    }
   ],
   "source": [
    "import numpy as np\n",
    "import matplotlib.pyplot as plt\n",
    "import seaborn as sns\n",
    "import pandas as pd\n",
    "\n",
    "# create some random data; replace that by your actual dataset\n",
    "plt.figure(figsize=(10, 10))\n",
    "plt.xlabel(\"Outputs per thread\",fontsize=16)\n",
    "plt.ylabel(\"Performance in GFlop/s\",fontsize=16)\n",
    "plt.plot(op,gflop,'g')\n",
    "plt.xticks(op,fontsize=16)\n",
    "plt.yticks(gflop,fontsize=16)\n",
    "plt.grid(True)\n",
    "plt.savefig(\"plt_gflop.png\",dpi=100)\n",
    "plt.show()"
   ]
  },
  {
   "cell_type": "code",
   "execution_count": 24,
   "metadata": {},
   "outputs": [
    {
     "data": {
      "text/plain": [
       "4"
      ]
     },
     "execution_count": 24,
     "metadata": {},
     "output_type": "execute_result"
    }
   ],
   "source": [
    "data.shape[1]"
   ]
  },
  {
   "cell_type": "code",
   "execution_count": 49,
   "metadata": {
    "collapsed": true
   },
   "outputs": [],
   "source": [
    "gflop = np.array(gflop[0])"
   ]
  },
  {
   "cell_type": "code",
   "execution_count": 50,
   "metadata": {},
   "outputs": [
    {
     "data": {
      "text/plain": [
       "array([  2.17864,   4.27732,   6.8276 ,   8.74055,   9.63573,  10.05964,\n",
       "        10.06736,   9.27395,   9.41811,   9.21281,  10.02777,   4.33487,\n",
       "         8.50489,  13.52975,  17.33677,  19.14858,  19.31189,  17.57165,\n",
       "        17.76796,  17.79282,  19.41841,   8.63216,  16.8734 ,  26.78846,\n",
       "        34.25111,  34.66219,  33.87216,  31.88499,  32.87944,  35.37824,\n",
       "        17.04291,  33.20909,  52.57421,  58.13629,  56.91629,  55.92033,\n",
       "        55.68469,  58.50825,  33.24981,  64.48808,  89.26192,  88.86233,\n",
       "        87.31534,  85.81711,  90.38958,  61.73563,  74.44655,  73.14648,\n",
       "        70.78532,  65.57184,  63.13278,  74.52737,  73.27749,  71.59663,\n",
       "        68.72384,  64.7057 ,  73.20698,  71.3697 ,  68.66617,  65.18099,\n",
       "        71.48063,  67.87043,  64.59759,  70.40359,  73.97814,  59.94645])"
      ]
     },
     "execution_count": 50,
     "metadata": {},
     "output_type": "execute_result"
    }
   ],
   "source": [
    "gflop"
   ]
  },
  {
   "cell_type": "code",
   "execution_count": 39,
   "metadata": {},
   "outputs": [
    {
     "data": {
      "text/html": [
       "<div>\n",
       "<style>\n",
       "    .dataframe thead tr:only-child th {\n",
       "        text-align: right;\n",
       "    }\n",
       "\n",
       "    .dataframe thead th {\n",
       "        text-align: left;\n",
       "    }\n",
       "\n",
       "    .dataframe tbody tr th {\n",
       "        vertical-align: top;\n",
       "    }\n",
       "</style>\n",
       "<table border=\"1\" class=\"dataframe\">\n",
       "  <thead>\n",
       "    <tr style=\"text-align: right;\">\n",
       "      <th></th>\n",
       "      <th>256</th>\n",
       "      <th>512</th>\n",
       "      <th>1024</th>\n",
       "      <th>2048</th>\n",
       "    </tr>\n",
       "  </thead>\n",
       "  <tbody>\n",
       "    <tr>\n",
       "      <th>1</th>\n",
       "      <td>0.92789</td>\n",
       "      <td>0.72198</td>\n",
       "      <td>0.70648</td>\n",
       "      <td>0.70735</td>\n",
       "    </tr>\n",
       "    <tr>\n",
       "      <th>2</th>\n",
       "      <td>6.47190</td>\n",
       "      <td>5.15621</td>\n",
       "      <td>5.16190</td>\n",
       "      <td>5.17159</td>\n",
       "    </tr>\n",
       "    <tr>\n",
       "      <th>4</th>\n",
       "      <td>38.67945</td>\n",
       "      <td>33.55456</td>\n",
       "      <td>31.22537</td>\n",
       "      <td>32.46577</td>\n",
       "    </tr>\n",
       "    <tr>\n",
       "      <th>8</th>\n",
       "      <td>134.74020</td>\n",
       "      <td>137.34155</td>\n",
       "      <td>134.19148</td>\n",
       "      <td>131.94601</td>\n",
       "    </tr>\n",
       "    <tr>\n",
       "      <th>16</th>\n",
       "      <td>208.98297</td>\n",
       "      <td>222.36221</td>\n",
       "      <td>217.12303</td>\n",
       "      <td>215.65938</td>\n",
       "    </tr>\n",
       "    <tr>\n",
       "      <th>32</th>\n",
       "      <td>240.17456</td>\n",
       "      <td>254.41249</td>\n",
       "      <td>255.61969</td>\n",
       "      <td>253.74310</td>\n",
       "    </tr>\n",
       "  </tbody>\n",
       "</table>\n",
       "</div>"
      ],
      "text/plain": [
       "         256        512        1024       2048\n",
       "1     0.92789    0.72198    0.70648    0.70735\n",
       "2     6.47190    5.15621    5.16190    5.17159\n",
       "4    38.67945   33.55456   31.22537   32.46577\n",
       "8   134.74020  137.34155  134.19148  131.94601\n",
       "16  208.98297  222.36221  217.12303  215.65938\n",
       "32  240.17456  254.41249  255.61969  253.74310"
      ]
     },
     "execution_count": 39,
     "metadata": {},
     "output_type": "execute_result"
    }
   ],
   "source": [
    "data"
   ]
  },
  {
   "cell_type": "code",
   "execution_count": null,
   "metadata": {
    "collapsed": true
   },
   "outputs": [],
   "source": []
  }
 ],
 "metadata": {
  "kernelspec": {
   "display_name": "Python 2",
   "language": "python",
   "name": "python2"
  },
  "language_info": {
   "codemirror_mode": {
    "name": "ipython",
    "version": 2
   },
   "file_extension": ".py",
   "mimetype": "text/x-python",
   "name": "python",
   "nbconvert_exporter": "python",
   "pygments_lexer": "ipython2",
   "version": "2.7.13"
  }
 },
 "nbformat": 4,
 "nbformat_minor": 2
}
